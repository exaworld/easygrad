{
 "cells": [
  {
   "attachments": {},
   "cell_type": "markdown",
   "metadata": {},
   "source": [
    "### Predicting House Price if Below or Above Market Price"
   ]
  },
  {
   "cell_type": "code",
   "execution_count": 3,
   "metadata": {},
   "outputs": [],
   "source": [
    "import pandas as pd\n",
    "\n",
    "data = pd.read_csv(\"housepricedata.csv\")"
   ]
  },
  {
   "cell_type": "code",
   "execution_count": 4,
   "metadata": {},
   "outputs": [
    {
     "data": {
      "text/plain": [
       "False"
      ]
     },
     "execution_count": 4,
     "metadata": {},
     "output_type": "execute_result"
    }
   ],
   "source": [
    "# Check values if any is null\n",
    "\n",
    "data.isnull().values.any()"
   ]
  },
  {
   "cell_type": "code",
   "execution_count": 5,
   "metadata": {},
   "outputs": [],
   "source": [
    "PREDICTORS = data.columns[:-1]\n",
    "TARGET = data.columns[-1]"
   ]
  },
  {
   "cell_type": "code",
   "execution_count": 6,
   "metadata": {},
   "outputs": [],
   "source": [
    "# Scale the data values\n",
    "\n",
    "from sklearn.preprocessing import MinMaxScaler\n",
    "\n",
    "scaler = MinMaxScaler()\n",
    "data[PREDICTORS] = scaler.fit_transform(data[PREDICTORS])"
   ]
  },
  {
   "cell_type": "code",
   "execution_count": 7,
   "metadata": {},
   "outputs": [],
   "source": [
    "# Split the data into train and test set\n",
    "\n",
    "from sklearn.model_selection import train_test_split\n",
    "\n",
    "X_train, X_val_and_test, Y_train, Y_val_and_test = train_test_split(data[PREDICTORS], data[TARGET], test_size=0.3, random_state=42)\n",
    "\n",
    "X_val, X_test, Y_val, Y_test = train_test_split(X_val_and_test, Y_val_and_test, test_size=0.5)"
   ]
  },
  {
   "cell_type": "code",
   "execution_count": 8,
   "metadata": {},
   "outputs": [],
   "source": [
    "X_train, X_val, X_test = (i.values.tolist() for i in [X_train, X_val, X_test])\n",
    "Y_train, Y_val, Y_test = (i.values.flatten().tolist() for i in [Y_train, Y_val, Y_test])"
   ]
  },
  {
   "attachments": {},
   "cell_type": "markdown",
   "metadata": {},
   "source": [
    "#### Data Set Summary\n",
    "\n",
    "X_train (10 input features, 70% of full dataset)<br>\n",
    "X_val (10 input features, 15% of full dataset)<br>\n",
    "X_test (10 input features, 15% of full dataset)<br>\n",
    "Y_train (1 label, 70% of full dataset)<br>\n",
    "Y_val (1 label, 15% of full dataset)<br>\n",
    "Y_test (1 label, 15% of full dataset)"
   ]
  },
  {
   "cell_type": "code",
   "execution_count": 9,
   "metadata": {},
   "outputs": [
    {
     "name": "stdout",
     "output_type": "stream",
     "text": [
      "0.5\n",
      "0 1.6707433287659994\n",
      "1 0.9012897827249918\n",
      "2 0.4772769379002744\n",
      "3 0.2793655526216228\n",
      "4 0.17171599961828113\n",
      "5 0.11350956790089266\n",
      "6 0.08188521967016459\n",
      "7 0.06304666670014032\n",
      "8 0.05065514943560243\n",
      "9 0.041997065993288146\n",
      "10 0.03566354311941158\n",
      "11 0.030859489361957905\n",
      "12 0.027107832602583485\n",
      "13 0.024107376887656212\n",
      "14 0.021659723187888894\n",
      "15 0.019629436077879807\n",
      "16 0.017921213722826297\n",
      "17 0.016466225492066226\n",
      "18 0.015213624557510907\n",
      "19 0.014125100922803684\n"
     ]
    }
   ],
   "source": [
    "from ipynb.fs.full import neural_network"
   ]
  },
  {
   "cell_type": "code",
   "execution_count": 12,
   "metadata": {},
   "outputs": [],
   "source": [
    "import numpy as np\n",
    "\n",
    "def train_model(model, X_train, y_train, X_val, y_val, epoch, lr, batch_size=0):\n",
    "    train_losses = []\n",
    "    val_losses = []\n",
    "\n",
    "    for k in range(epoch):\n",
    "        # Shuffle the training data\n",
    "        train_indices = np.random.permutation(len(X_train))\n",
    "        X_train = [X_train[i] for i in train_indices]\n",
    "        y_train = [y_train[i] for i in train_indices]\n",
    "\n",
    "        # Initialize variables for accumulating gradients and losses\n",
    "        train_loss = 0.0\n",
    "        train_correct = 0\n",
    "\n",
    "        batch_size = batch_size if batch_size != 0 else len(y_train)\n",
    "\n",
    "        # Iterate over the training dataset in batches\n",
    "        for start in range(0, len(X_train), batch_size):\n",
    "            end = start + batch_size\n",
    "            batch_xs = X_train[start:end]\n",
    "            batch_ys = y_train[start:end]\n",
    "\n",
    "            # Forward pass\n",
    "            ypred = [model(x) for x in batch_xs]\n",
    "            loss = ([p.neg_log_loss(y) for p, y in zip(ypred, batch_ys)])\n",
    "            loss = sum(loss)/len(loss)\n",
    "\n",
    "            # Backward pass and parameter update\n",
    "            for p in model.parameters():\n",
    "                p.grad = 0\n",
    "            loss.backward()\n",
    "\n",
    "            for p in model.parameters():\n",
    "                p.data -= lr * p.grad\n",
    "\n",
    "            # Accumulate training loss\n",
    "            train_loss += loss * len(batch_xs)\n",
    "\n",
    "            #Accuracy\n",
    "            train_outputs = [1 if i.data >= 0.4 else 0 for i in ypred]\n",
    "            correct = np.sum(np.array(train_outputs) == np.array(batch_ys))\n",
    "            train_correct += correct\n",
    "        # Average training loss for the epoch\n",
    "        train_loss /= len(X_train)\n",
    "        train_losses.append(train_loss)\n",
    "        train_accuracy = train_correct / len(X_train)\n",
    "\n",
    "        # Validation loss calculation\n",
    "        val_loss = 0.0\n",
    "        val_correct = 0\n",
    "        for x, y in zip(X_val, y_val):\n",
    "            y_pred_val = model(x)\n",
    "            val_loss += y_pred_val.neg_log_loss(y)\n",
    "            \n",
    "            output = None\n",
    "            if y_pred_val.data >= 0.4:\n",
    "                output = 1\n",
    "            else: output = 0\n",
    "            if output == y: val_correct += 1\n",
    "        val_loss /= len(X_val)\n",
    "        val_losses.append(val_loss)\n",
    "        val_accuracy = val_correct / len(X_val)\n",
    "\n",
    "        # Print average losses for the epoch\n",
    "        print(f\"Epoch {k+1}: Train Loss: {train_loss}, Validation Loss: {val_loss}\")\n",
    "        print(f\"Train Accuracy: {train_accuracy}, Validation Accuracy: {val_accuracy}\")\n",
    "\n",
    "        # Clear gradients after each epoch\n",
    "        for p in model.parameters():\n",
    "            p.grad = 0\n",
    "\n",
    "    return train_losses, val_losses"
   ]
  },
  {
   "cell_type": "code",
   "execution_count": 13,
   "metadata": {},
   "outputs": [
    {
     "name": "stdout",
     "output_type": "stream",
     "text": [
      "Epoch 1: Train Loss: Value(data=0.695424954279245), Validation Loss: Value(data=0.6726609210934538)\n",
      "Train Accuracy: 0.5293542074363993, Validation Accuracy: 0.4794520547945205\n",
      "Epoch 2: Train Loss: Value(data=0.6084114258589709), Validation Loss: Value(data=0.4827893461269136)\n",
      "Train Accuracy: 0.5684931506849316, Validation Accuracy: 0.7031963470319634\n",
      "Epoch 3: Train Loss: Value(data=0.4126573528903238), Validation Loss: Value(data=0.3128347500398168)\n",
      "Train Accuracy: 0.8277886497064579, Validation Accuracy: 0.8356164383561644\n",
      "Epoch 4: Train Loss: Value(data=0.3483502038059394), Validation Loss: Value(data=0.25279960165415855)\n",
      "Train Accuracy: 0.8454011741682974, Validation Accuracy: 0.8858447488584474\n",
      "Epoch 5: Train Loss: Value(data=0.33897450362997666), Validation Loss: Value(data=0.22436110354444788)\n",
      "Train Accuracy: 0.8454011741682974, Validation Accuracy: 0.8995433789954338\n",
      "Epoch 6: Train Loss: Value(data=0.3301080681474466), Validation Loss: Value(data=0.2122293309989479)\n",
      "Train Accuracy: 0.8581213307240705, Validation Accuracy: 0.9041095890410958\n",
      "Epoch 7: Train Loss: Value(data=0.30630766495168815), Validation Loss: Value(data=0.2197464007139776)\n",
      "Train Accuracy: 0.8679060665362035, Validation Accuracy: 0.8858447488584474\n",
      "Epoch 8: Train Loss: Value(data=0.318156749962409), Validation Loss: Value(data=0.197309170898429)\n",
      "Train Accuracy: 0.8688845401174168, Validation Accuracy: 0.9041095890410958\n",
      "Epoch 9: Train Loss: Value(data=0.3150306850167604), Validation Loss: Value(data=0.1968682394073865)\n",
      "Train Accuracy: 0.8581213307240705, Validation Accuracy: 0.9269406392694064\n",
      "Epoch 10: Train Loss: Value(data=0.2980165836020469), Validation Loss: Value(data=0.20507215600491463)\n",
      "Train Accuracy: 0.8679060665362035, Validation Accuracy: 0.91324200913242\n",
      "Epoch 11: Train Loss: Value(data=0.292721325093315), Validation Loss: Value(data=0.23270303279443855)\n",
      "Train Accuracy: 0.8718199608610567, Validation Accuracy: 0.8904109589041096\n",
      "Epoch 12: Train Loss: Value(data=0.29876110396561417), Validation Loss: Value(data=0.2282418395822084)\n",
      "Train Accuracy: 0.8688845401174168, Validation Accuracy: 0.8904109589041096\n",
      "Epoch 13: Train Loss: Value(data=0.2991025508463447), Validation Loss: Value(data=0.2058550723263633)\n",
      "Train Accuracy: 0.8737769080234834, Validation Accuracy: 0.9041095890410958\n",
      "Epoch 14: Train Loss: Value(data=0.2916559062837694), Validation Loss: Value(data=0.20817835375248286)\n",
      "Train Accuracy: 0.87573385518591, Validation Accuracy: 0.9315068493150684\n",
      "Epoch 15: Train Loss: Value(data=0.2973220678166087), Validation Loss: Value(data=0.2006825736682074)\n",
      "Train Accuracy: 0.8718199608610567, Validation Accuracy: 0.9223744292237442\n",
      "Epoch 16: Train Loss: Value(data=0.29420688299002384), Validation Loss: Value(data=0.18931456862676407)\n",
      "Train Accuracy: 0.8806262230919765, Validation Accuracy: 0.91324200913242\n",
      "Epoch 17: Train Loss: Value(data=0.28940938742357597), Validation Loss: Value(data=0.21704863149738365)\n",
      "Train Accuracy: 0.8767123287671232, Validation Accuracy: 0.9360730593607306\n",
      "Epoch 18: Train Loss: Value(data=0.29800961554213584), Validation Loss: Value(data=0.18560092402951284)\n",
      "Train Accuracy: 0.8679060665362035, Validation Accuracy: 0.9269406392694064\n",
      "Epoch 19: Train Loss: Value(data=0.2967584115139241), Validation Loss: Value(data=0.1916194472556374)\n",
      "Train Accuracy: 0.8864970645792564, Validation Accuracy: 0.91324200913242\n",
      "Epoch 20: Train Loss: Value(data=0.28783750227409133), Validation Loss: Value(data=0.19161831343381863)\n",
      "Train Accuracy: 0.8679060665362035, Validation Accuracy: 0.9315068493150684\n"
     ]
    }
   ],
   "source": [
    "# Initiate the model\n",
    "MLP = neural_network.MLP\n",
    "model = MLP(10, [(5, 'relu'), (5, 'relu'), (1, 'sigmoid')]) #use sigmoid on last layer as the classification is binary\n",
    "\n",
    "# Train the model\n",
    "train_losses, val_losses = train_model(model, X_train, Y_train, X_val, Y_val, 20, 0.05, 8)"
   ]
  },
  {
   "cell_type": "code",
   "execution_count": 14,
   "metadata": {},
   "outputs": [],
   "source": [
    "test_preds = model.predict(X_test)"
   ]
  },
  {
   "cell_type": "code",
   "execution_count": 15,
   "metadata": {},
   "outputs": [
    {
     "data": {
      "text/plain": [
       "[<matplotlib.lines.Line2D at 0x25bd34006d0>]"
      ]
     },
     "execution_count": 15,
     "metadata": {},
     "output_type": "execute_result"
    },
    {
     "data": {
      "image/png": "[encoded data removed]",
      "text/plain": [
       "<Figure size 1000x500 with 1 Axes>"
      ]
     },
     "metadata": {},
     "output_type": "display_data"
    }
   ],
   "source": [
    "import matplotlib.pyplot as plt\n",
    "\n",
    "tl = [i.data for i in train_losses]\n",
    "vl = [i.data for i in val_losses]\n",
    "\n",
    "plt.figure(figsize=(10,5))\n",
    "plt.plot(np.arange(1, 21, 1), tl)\n",
    "plt.plot(np.arange(1, 21, 1), vl)"
   ]
  }
 ],
 "metadata": {
  "kernelspec": {
   "display_name": "venv",
   "language": "python",
   "name": "python3"
  },
  "language_info": {
   "codemirror_mode": {
    "name": "ipython",
    "version": 3
   },
   "file_extension": ".py",
   "mimetype": "text/x-python",
   "name": "python",
   "nbconvert_exporter": "python",
   "pygments_lexer": "ipython3",
   "version": "3.11.3"
  },
  "orig_nbformat": 4
 },
 "nbformat": 4,
 "nbformat_minor": 2
}
